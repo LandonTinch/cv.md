{
 "cells": [
  {
   "cell_type": "code",
   "execution_count": 11,
   "metadata": {},
   "outputs": [],
   "source": [
    "input_file = \"/Users/lt33t/DASC1104/example_files/other_files/presidents.csv\"\n"
   ]
  },
  {
   "cell_type": "code",
   "execution_count": 32,
   "metadata": {},
   "outputs": [
    {
     "name": "stdout",
     "output_type": "stream",
     "text": [
      "President number Presidency  was President \n",
      "President number 1 was George Washington\n",
      "President number 2 was John Adams\n",
      "President number 3 was Thomas Jefferson\n",
      "President number 4 was James Madison\n",
      "President number 5 was James Monroe\n",
      "President number 6 was John Quincy Adams\n",
      "President number 7 was Andrew Jackson\n",
      "President number 8 was Martin Van Buren\n",
      "President number 9 was William Henry Harrison\n",
      "President number 10 was John Tyler\n",
      "President number 11 was James K. Polk\n",
      "President number 12 was Zachary Taylor\n",
      "President number 13 was Millard Fillmore\n",
      "President number 14 was Franklin Pierce\n",
      "President number 15 was James Buchanan\n",
      "President number 16 was Abraham Lincoln\n",
      "President number 17 was Andrew Johnson\n",
      "President number 18 was Ulysses S. Grant\n",
      "President number 19 was Rutherford B. Hayes\n",
      "President number 20 was James A. Garfield\n",
      "President number 21 was Chester A. Arthur\n",
      "President number 22 was Grover Cleveland\n",
      "President number 23 was Benjamin Harrison\n",
      "President number 24 was Grover Cleveland (2nd term)\n",
      "President number 25 was William McKinley\n",
      "President number 26 was Theodore Roosevelt\n",
      "President number 27 was William Howard Taft\n",
      "President number 28 was Woodrow Wilson\n",
      "President number 29 was Warren G. Harding\n",
      "President number 30 was Calvin Coolidge\n",
      "President number 31 was Herbert Hoover\n",
      "President number 32 was Franklin D. Roosevelt\n",
      "President number 33 was Harry S. Truman\n",
      "President number 34 was Dwight D. Eisenhower\n",
      "President number 35 was John F. Kennedy\n",
      "President number 36 was Lyndon B. Johnson\n",
      "President number 37 was Richard Nixon\n",
      "President number 38 was Gerald Ford\n",
      "President number 39 was Jimmy Carter\n",
      "President number 40 was Ronald Reagan\n",
      "President number 41 was George H. W. Bush\n",
      "President number 42 was Bill Clinton\n",
      "President number 43 was George W. Bush\n",
      "President number 44 was Barack Obama\n"
     ]
    }
   ],
   "source": [
    "presidents = {}\n",
    "wikis = {}\n",
    "\n",
    "\n",
    "with open(input_file, 'r') as prez_file:\n",
    "    for line in prez_file:\n",
    "        line = line.rstrip()\n",
    "        colums = line.split(',')\n",
    "        if(colums[0] == 'Presidency'):\n",
    "            continue\n",
    "        else:\n",
    "            print(\"President number\", colums[0], \"was\", colums[1])\n",
    "            president_number = colums[0]\n",
    "            president_name = colums[1]\n",
    "            presidents[president_number] = president_name\n",
    "            wikis[president_name] = colums[2]\n",
    "            \n",
    "\n",
    "\n",
    "\n",
    "        "
   ]
  },
  {
   "cell_type": "code",
   "execution_count": 29,
   "metadata": {},
   "outputs": [
    {
     "name": "stdout",
     "output_type": "stream",
     "text": [
      "Abraham Lincoln\n"
     ]
    }
   ],
   "source": [
    "print(presidents['16'])"
   ]
  },
  {
   "cell_type": "code",
   "execution_count": 33,
   "metadata": {},
   "outputs": [
    {
     "name": "stdout",
     "output_type": "stream",
     "text": [
      "Abraham Lincoln\n",
      "Gerald Ford\n",
      "Andrew Jackson\n",
      "None\n"
     ]
    }
   ],
   "source": [
    "print(presidents['16'])\n",
    "print(presidents.get('38'))\n",
    "print(presidents.get('7',\"Not elected yet; hold your horses\"))\n",
    "print(wikis.get('6'))"
   ]
  },
  {
   "cell_type": "code",
   "execution_count": null,
   "metadata": {},
   "outputs": [],
   "source": [
    "for number, page in wikis.items():\n",
    "\n"
   ]
  }
 ],
 "metadata": {
  "kernelspec": {
   "display_name": "Python 3",
   "language": "python",
   "name": "python3"
  },
  "language_info": {
   "codemirror_mode": {
    "name": "ipython",
    "version": 3
   },
   "file_extension": ".py",
   "mimetype": "text/x-python",
   "name": "python",
   "nbconvert_exporter": "python",
   "pygments_lexer": "ipython3",
   "version": "3.11.5"
  },
  "orig_nbformat": 4
 },
 "nbformat": 4,
 "nbformat_minor": 2
}

{
 "cells": [
  {
   "cell_type": "markdown",
   "metadata": {},
   "source": [
    "# DASC 1104: Lab 5"
   ]
  },
  {
   "cell_type": "markdown",
   "metadata": {},
   "source": [
    "### Insert your name here:"
   ]
  },
  {
   "cell_type": "markdown",
   "metadata": {},
   "source": [
    "**Directions: Record all of your answers in this document. When you are finished, use the \"Save\" button at the top to create a PDF of your solutions that you will submit through GradeScope.**"
   ]
  },
  {
   "cell_type": "code",
   "execution_count": 4,
   "metadata": {},
   "outputs": [
    {
     "name": "stdout",
     "output_type": "stream",
     "text": [
      "('attcaggac', 'tgccagcatccgaagtttt')\n"
     ]
    }
   ],
   "source": [
    "# define and assign values to dna1 and dna2 variables \n",
    "dna1 = \"attcaggac\" \n",
    "dna2 = \"tgccagcatccgaagtttt\" \n",
    "# your code for concatenating 2 DNA sequences\n",
    "dna3 = dna1,dna2\n",
    "\n",
    "print(dna3)\n",
    "\n",
    "\n"
   ]
  },
  {
   "cell_type": "markdown",
   "metadata": {},
   "source": [
    "**Problem 2: Print ‘dna3’. Your output should look like this:**\n",
    "\n",
    "attcaggactgccagcatccgaagtttt"
   ]
  },
  {
   "cell_type": "code",
   "execution_count": 5,
   "metadata": {},
   "outputs": [
    {
     "name": "stdout",
     "output_type": "stream",
     "text": [
      "attcaggactgccagcatccgaagtttt\n"
     ]
    }
   ],
   "source": [
    "# your code for printing dna3'\n",
    "\n",
    "dna3 = dna1 + dna2\n",
    "\n",
    "print(dna3)\n"
   ]
  },
  {
   "cell_type": "markdown",
   "metadata": {},
   "source": [
    "**Problem 3: Write a print statement to print a string that is concatenated in this order: dna1-intron-dna2. The sequences for the ‘dna1’ and ‘dna2’ segments should be uppercase, and ‘intron’ should be lowercase. Your output should look like this:**\n",
    "\n",
    "ATTCAGGACtttaagtcaggaaaTGCCAGCATCCGAAGTTTT"
   ]
  },
  {
   "cell_type": "markdown",
   "metadata": {},
   "source": [
    "# define and assign a value to the intron variable \n",
    "\n",
    "\n",
    "\n",
    "# your code to print dna1-intron-dna2"
   ]
  },
  {
   "cell_type": "markdown",
   "metadata": {},
   "source": [
    "**Problem 4: Calculate and print the length of each DNA segment. Your output should look like this**\n",
    "\n",
    "- The length of dna1 is: 9 characters\n",
    "- The length of dna2 is: 19 characters\n",
    "- The length of intron is: 14 characters\n",
    "- The length of the whole string (dna1-intron-dna2) is: 42 characters\n"
   ]
  },
  {
   "cell_type": "code",
   "execution_count": 21,
   "metadata": {},
   "outputs": [
    {
     "name": "stdout",
     "output_type": "stream",
     "text": [
      "The length of dna1 is: 9\n",
      "The length of dna2 is: 19\n",
      "The length of intron is: 14\n",
      "The length of the whole string is: 42\n"
     ]
    }
   ],
   "source": [
    "# your code for the print statements \n",
    "intron = \"tttaagtcaggaaa\"\n",
    "dna3 = dna1 + intron + dna2\n",
    "Ldna1 = len(dna1)\n",
    "Ldna2 = len(dna2)\n",
    "Lintron = len(intron)\n",
    "Ldna3 = len(dna3)\n",
    "print(\"The length of dna1 is:\",Ldna1)\n",
    "print(\"The length of dna2 is:\",Ldna2)\n",
    "print(\"The length of intron is:\",Lintron)\n",
    "print(\"The length of the whole string is:\",Ldna3)"
   ]
  },
  {
   "cell_type": "markdown",
   "metadata": {},
   "source": [
    "**Problem 5: Use Google to learn how to use Python to count the occurrences of a specific character in a string. Print the number of A’s, C’s, G’s, and T’s in the dna1-intron-dna2 string from Problem #3. You may need to convert all the characters to uppercase to get an accurate count. Be sure to comment your code. Your ouput should look like this:**\n",
    "\n",
    "- num A: 7\n",
    "- num C: 7\n",
    "- num G: 6\n",
    "- num T: 8"
   ]
  },
  {
   "cell_type": "code",
   "execution_count": 18,
   "metadata": {},
   "outputs": [
    {
     "name": "stdout",
     "output_type": "stream",
     "text": [
      "num A: 7\n",
      "num C: 7\n",
      "num G: 6\n",
      "num T: 8\n"
     ]
    }
   ],
   "source": [
    "# your code for the print statements\n",
    "\n",
    "\n",
    "\n",
    "print(\"num A:\",dna3.count('a'))\n",
    "print(\"num C:\",dna3.count('c'))\n",
    "print(\"num G:\",dna3.count('g'))\n",
    "print(\"num T:\",dna3.count('t'))\n",
    "\n",
    "\n"
   ]
  }
 ],
 "metadata": {
  "kernelspec": {
   "display_name": "Python 3",
   "language": "python",
   "name": "python3"
  },
  "language_info": {
   "codemirror_mode": {
    "name": "ipython",
    "version": 3
   },
   "file_extension": ".py",
   "mimetype": "text/x-python",
   "name": "python",
   "nbconvert_exporter": "python",
   "pygments_lexer": "ipython3",
   "version": "3.11.5"
  },
  "orig_nbformat": 4
 },
 "nbformat": 4,
 "nbformat_minor": 2
}
